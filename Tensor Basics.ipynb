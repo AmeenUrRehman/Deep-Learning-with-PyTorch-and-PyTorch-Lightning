{
 "cells": [
  {
   "cell_type": "code",
   "execution_count": 14,
   "id": "5f266ff6",
   "metadata": {},
   "outputs": [],
   "source": [
    "import torch"
   ]
  },
  {
   "cell_type": "code",
   "execution_count": 15,
   "id": "7f3cc2f8",
   "metadata": {},
   "outputs": [
    {
     "name": "stdout",
     "output_type": "stream",
     "text": [
      "tensor([0., 0., 0.])\n"
     ]
    }
   ],
   "source": [
    "# torch.empty() returns the tensor filled with uninitialized data\n",
    "e = torch.empty(3)\n",
    "print(e)"
   ]
  },
  {
   "cell_type": "code",
   "execution_count": 16,
   "id": "64f7c8e9",
   "metadata": {},
   "outputs": [
    {
     "name": "stdout",
     "output_type": "stream",
     "text": [
      "tensor([0.1843, 0.1638])\n"
     ]
    }
   ],
   "source": [
    "# torch.rand() return the random tensor with specific shape\n",
    "r = torch.rand(2)\n",
    "print(r)"
   ]
  },
  {
   "cell_type": "raw",
   "id": "d9aa4bf3",
   "metadata": {},
   "source": [
    "Torch.empty is faster than torch.rand because torch.empty is faster and assign the memory to tensor without filling with specific values"
   ]
  },
  {
   "cell_type": "code",
   "execution_count": 17,
   "id": "6d9c8b5e",
   "metadata": {},
   "outputs": [
    {
     "name": "stdout",
     "output_type": "stream",
     "text": [
      "tensor([0., 0.])\n"
     ]
    }
   ],
   "source": [
    "# torch.zeros() return a tensor filled with the scaler value 0 with the shape defined by the variable argument\n",
    "z = torch.zeros(2)\n",
    "print(z)"
   ]
  },
  {
   "cell_type": "code",
   "execution_count": 18,
   "id": "b650f2ee",
   "metadata": {},
   "outputs": [
    {
     "name": "stdout",
     "output_type": "stream",
     "text": [
      "tensor([1., 1., 1.])\n"
     ]
    }
   ],
   "source": [
    "# torch.ones() return a tensor filled with the scaler value 1 with the shape defined by the variable argument\n",
    "o = torch.ones(3)\n",
    "print(o)"
   ]
  },
  {
   "cell_type": "raw",
   "id": "3ddaba51",
   "metadata": {},
   "source": [
    "# By default torch support float32 dtype but can change the dtype in the argument parameter"
   ]
  },
  {
   "cell_type": "code",
   "execution_count": 23,
   "id": "6dd19b64",
   "metadata": {},
   "outputs": [
    {
     "name": "stdout",
     "output_type": "stream",
     "text": [
      "torch.float32\n",
      "torch.int32\n"
     ]
    }
   ],
   "source": [
    "rand = torch.ones(2,3)\n",
    "print(rand.dtype)\n",
    "\n",
    "# Change the dtype\n",
    "randchg = torch.ones(2,3 , dtype = torch.int)\n",
    "print(randchg.dtype)"
   ]
  },
  {
   "cell_type": "code",
   "execution_count": 24,
   "id": "2d8f9c32",
   "metadata": {},
   "outputs": [
    {
     "name": "stdout",
     "output_type": "stream",
     "text": [
      "torch.Size([2, 3])\n"
     ]
    }
   ],
   "source": [
    "# To check size of the tensor\n",
    "print(randchg.size())"
   ]
  },
  {
   "cell_type": "code",
   "execution_count": 25,
   "id": "a4b56fc4",
   "metadata": {},
   "outputs": [
    {
     "name": "stdout",
     "output_type": "stream",
     "text": [
      "tensor([2.5000, 4.3000])\n"
     ]
    }
   ],
   "source": [
    "# We can create tensor \n",
    "ten = torch.tensor([2.5,4.3])\n",
    "print(ten)"
   ]
  },
  {
   "cell_type": "code",
   "execution_count": 37,
   "id": "64357c65",
   "metadata": {},
   "outputs": [
    {
     "name": "stdout",
     "output_type": "stream",
     "text": [
      "tensor([[0.5726, 0.6950],\n",
      "        [0.0514, 0.3233]])\n",
      "tensor([[0.9682, 0.9263],\n",
      "        [0.4995, 0.0851]])\n",
      "tensor([[1.5409, 1.6213],\n",
      "        [0.5509, 0.4083]])\n",
      "tensor([[1.5409, 1.6213],\n",
      "        [0.5509, 0.4083]])\n",
      "tensor([[-0.3947,  0.0062],\n",
      "        [-0.0887,  0.5341]])\n",
      "tensor([[-0.3956, -0.2313],\n",
      "        [-0.4481,  0.2382]])\n"
     ]
    }
   ],
   "source": [
    "# Basics Mathematical Operations\n",
    "\n",
    "# Addition\n",
    "\n",
    "adx = torch.rand(2,2)\n",
    "ady = torch.rand(2,2)\n",
    "print(adx)\n",
    "print(ady)\n",
    "adz = adx + ady\n",
    "print(adz)\n",
    "adzADD = torch.add(adx,ady)\n",
    "print(adzADD)\n",
    "\n",
    "# Subtraction\n",
    "\n",
    "adxS = torch.rand(2,2)\n",
    "adyS = torch.rand(2,2)\n",
    "adzS = adxS - adyS\n",
    "print(adzS)\n",
    "\n",
    "adzSUB = torch.sub(adx,ady)\n",
    "print(adzSUB)\n",
    "\n",
    "# Same with multiplication mul and division div"
   ]
  },
  {
   "cell_type": "code",
   "execution_count": 49,
   "id": "c4f43696",
   "metadata": {},
   "outputs": [
    {
     "name": "stdout",
     "output_type": "stream",
     "text": [
      "tensor([1.5771, 0.9524])\n"
     ]
    }
   ],
   "source": [
    "# Inplace Operations\n",
    "x_inplace = torch.rand(2)\n",
    "y_inplace = torch.rand(2)\n",
    "y_inplace.add_(x_inplace)\n",
    "print(y_inplace)"
   ]
  },
  {
   "cell_type": "code",
   "execution_count": 40,
   "id": "5085e691",
   "metadata": {},
   "outputs": [
    {
     "name": "stdout",
     "output_type": "stream",
     "text": [
      "tensor([[0.3830, 0.6477, 0.3969],\n",
      "        [0.9245, 0.9656, 0.9216],\n",
      "        [0.2953, 0.1599, 0.8289]])\n",
      "tensor([0.3830, 0.6477, 0.3969, 0.9245, 0.9656, 0.9216, 0.2953, 0.1599, 0.8289])\n"
     ]
    }
   ],
   "source": [
    "# To change the shape\n",
    "shape_change = torch.rand(3,3)\n",
    "print(shape_change)\n",
    "shape_view = shape_change.view(9)\n",
    "print(shape_view)"
   ]
  },
  {
   "cell_type": "code",
   "execution_count": 46,
   "id": "8aa205c5",
   "metadata": {},
   "outputs": [
    {
     "name": "stdout",
     "output_type": "stream",
     "text": [
      "tensor([0.5644, 0.7616])\n",
      "[0.56442904 0.7615623 ]\n",
      "<class 'numpy.ndarray'>\n"
     ]
    }
   ],
   "source": [
    "# To change tenor to numpy\n",
    "tens = torch.rand(2)\n",
    "print(tens)\n",
    "num = tens.numpy()\n",
    "print(num)\n",
    "print(type(num))"
   ]
  },
  {
   "cell_type": "code",
   "execution_count": 50,
   "id": "29583702",
   "metadata": {},
   "outputs": [
    {
     "data": {
      "text/plain": [
       "tensor([ 0.0347,  0.2713, -1.0686])"
      ]
     },
     "execution_count": 50,
     "metadata": {},
     "output_type": "execute_result"
    }
   ],
   "source": [
    "# torch.randn returns a tensor with mean 0 and standard deviation 1\n",
    "torch.randn(3)"
   ]
  },
  {
   "cell_type": "code",
   "execution_count": null,
   "id": "f54b8d47",
   "metadata": {},
   "outputs": [],
   "source": []
  }
 ],
 "metadata": {
  "kernelspec": {
   "display_name": "Python 3 (ipykernel)",
   "language": "python",
   "name": "python3"
  },
  "language_info": {
   "codemirror_mode": {
    "name": "ipython",
    "version": 3
   },
   "file_extension": ".py",
   "mimetype": "text/x-python",
   "name": "python",
   "nbconvert_exporter": "python",
   "pygments_lexer": "ipython3",
   "version": "3.9.13"
  }
 },
 "nbformat": 4,
 "nbformat_minor": 5
}
