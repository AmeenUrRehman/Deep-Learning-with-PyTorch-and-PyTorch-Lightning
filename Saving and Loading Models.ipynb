{
 "cells": [
  {
   "cell_type": "code",
   "execution_count": 1,
   "id": "20cb9f1b",
   "metadata": {},
   "outputs": [],
   "source": [
    "# Creating a dummy Neural Network\n",
    "\n",
    "import torch\n",
    "import torch.nn as nn\n",
    "\n",
    "class Model(nn.Module):\n",
    "    def __init__(self, n_input_features):\n",
    "        super(Model, self).__init__()\n",
    "        self.linear = nn.Linear(n_input_features,1)\n",
    "        \n",
    "    def forward(self,x):\n",
    "        y_pred = torch.sigmoid(self,linear(x))\n",
    "        return y_pred\n",
    "\n",
    "model = Model(n_input_features=6)"
   ]
  },
  {
   "cell_type": "code",
   "execution_count": 2,
   "id": "74951e9a",
   "metadata": {},
   "outputs": [],
   "source": [
    "# Lazy method to save model\n",
    "FILE = \"model.pth\"\n",
    "torch.save(model, FILE)"
   ]
  },
  {
   "cell_type": "code",
   "execution_count": 4,
   "id": "e852aa2b",
   "metadata": {},
   "outputs": [
    {
     "data": {
      "text/plain": [
       "Model(\n",
       "  (linear): Linear(in_features=6, out_features=1, bias=True)\n",
       ")"
      ]
     },
     "execution_count": 4,
     "metadata": {},
     "output_type": "execute_result"
    }
   ],
   "source": [
    "# To load the model\n",
    "model_load = torch.load(FILE)\n",
    "model_load.eval()"
   ]
  },
  {
   "cell_type": "markdown",
   "id": "7e5e88ce",
   "metadata": {},
   "source": [
    "### Recommended method to save and load model"
   ]
  },
  {
   "cell_type": "code",
   "execution_count": 5,
   "id": "28770a58",
   "metadata": {},
   "outputs": [],
   "source": [
    "FILERec = \"modelRecommended.pth\"\n",
    "torch.save(model.state_dict() , FILERec)"
   ]
  },
  {
   "cell_type": "code",
   "execution_count": 6,
   "id": "b589bc1b",
   "metadata": {},
   "outputs": [
    {
     "data": {
      "text/plain": [
       "Model(\n",
       "  (linear): Linear(in_features=6, out_features=1, bias=True)\n",
       ")"
      ]
     },
     "execution_count": 6,
     "metadata": {},
     "output_type": "execute_result"
    }
   ],
   "source": [
    "loaded_model = Model(n_input_features=6)\n",
    "loaded_model.load_state_dict(torch.load(FILERec))\n",
    "loaded_model.eval()"
   ]
  },
  {
   "cell_type": "code",
   "execution_count": null,
   "id": "4c05b444",
   "metadata": {},
   "outputs": [],
   "source": []
  }
 ],
 "metadata": {
  "kernelspec": {
   "display_name": "Python 3 (ipykernel)",
   "language": "python",
   "name": "python3"
  },
  "language_info": {
   "codemirror_mode": {
    "name": "ipython",
    "version": 3
   },
   "file_extension": ".py",
   "mimetype": "text/x-python",
   "name": "python",
   "nbconvert_exporter": "python",
   "pygments_lexer": "ipython3",
   "version": "3.9.13"
  }
 },
 "nbformat": 4,
 "nbformat_minor": 5
}
