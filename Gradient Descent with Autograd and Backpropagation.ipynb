{
 "cells": [
  {
   "cell_type": "markdown",
   "id": "b54bc346",
   "metadata": {},
   "source": [
    "### Gradient Descent using Numpy"
   ]
  },
  {
   "cell_type": "code",
   "execution_count": 64,
   "id": "677fe5b3",
   "metadata": {},
   "outputs": [],
   "source": [
    "import numpy as np"
   ]
  },
  {
   "cell_type": "code",
   "execution_count": 65,
   "id": "175a8801",
   "metadata": {},
   "outputs": [],
   "source": [
    "X = np.array([1,2,3,4] , dtype = np.float32)\n",
    "Y = np.array([2,4,6,8] , dtype = np.float32)\n",
    "\n",
    "w = 0.0"
   ]
  },
  {
   "cell_type": "code",
   "execution_count": 66,
   "id": "f4c5b826",
   "metadata": {},
   "outputs": [
    {
     "name": "stdout",
     "output_type": "stream",
     "text": [
      "Prediction before training: f(5) = 5.000\n",
      "Epochs 1 : w =  0.600 , loss= 7.50000000\n",
      "Epochs 3 : w =  1.464 , loss= 3.26640034\n",
      "Epochs 5 : w =  2.017 , loss= 1.78114915\n",
      "Epochs 7 : w =  2.371 , loss= 1.33204365\n",
      "Epochs 9 : w =  2.597 , loss= 1.25001097\n",
      "Epochs 11 : w =  2.742 , loss= 1.28164029\n",
      "Epochs 13 : w =  2.835 , loss= 1.33634293\n",
      "Epochs 15 : w =  2.894 , loss= 1.38546717\n",
      "Epochs 17 : w =  2.932 , loss= 1.42268801\n",
      "Epochs 19 : w =  2.957 , loss= 1.44887733\n",
      "Prediction after training: f(5) = 7.965\n"
     ]
    }
   ],
   "source": [
    "# Model Prediction\n",
    "def forward(x):\n",
    "    return x+w\n",
    "\n",
    "# Loss = MSE\n",
    "def loss(y , y_predicted):\n",
    "    return ((y_predicted - y)**2).mean()\n",
    "\n",
    "# Gradient\n",
    "def gradient(x, y, y_predicted):\n",
    "    return np.dot(2*x , y_predicted - y).mean()\n",
    "\n",
    "print(f'Prediction before training: f(5) = {forward(5):.3f}')\n",
    "\n",
    "# Training the model now\n",
    "learning_rate = 0.01\n",
    "n_iters = 20\n",
    "\n",
    "for epochs in range(n_iters):\n",
    "    \n",
    "    # Prediction = forward pass\n",
    "    y_pred = forward(X)\n",
    "    \n",
    "    # Loss\n",
    "    l = loss(Y, y_pred)\n",
    "    \n",
    "    # Gradient\n",
    "    dw = gradient(X,Y,y_pred)\n",
    "    \n",
    "    # Update weights\n",
    "    w -= learning_rate * dw\n",
    "    \n",
    "    if epochs % 2 == 0:\n",
    "        print(f'Epochs {epochs+1} : w = {w: .3f} , loss= {l:.8f}')\n",
    "\n",
    "print(f'Prediction after training: f(5) = {forward(5):.3f}')\n",
    "    "
   ]
  },
  {
   "cell_type": "markdown",
   "id": "cc53fafe",
   "metadata": {},
   "source": [
    "### Gradient Descent using PyTorch Tensors"
   ]
  },
  {
   "cell_type": "code",
   "execution_count": 67,
   "id": "4803b52c",
   "metadata": {},
   "outputs": [],
   "source": [
    "import torch"
   ]
  },
  {
   "cell_type": "code",
   "execution_count": 68,
   "id": "d8d74d12",
   "metadata": {},
   "outputs": [],
   "source": [
    "X = torch.tensor([1,2,3,4] , dtype = torch.float32)\n",
    "Y = torch.tensor([2,4,6,8] , dtype = torch.float32)"
   ]
  },
  {
   "cell_type": "code",
   "execution_count": 69,
   "id": "fb79b1e2",
   "metadata": {},
   "outputs": [],
   "source": [
    "w = torch.tensor(0.0 , dtype = torch.float32, requires_grad = True)"
   ]
  },
  {
   "cell_type": "code",
   "execution_count": 73,
   "id": "eeb0347d",
   "metadata": {},
   "outputs": [
    {
     "name": "stdout",
     "output_type": "stream",
     "text": [
      "Prediction before training: f(5) = 7.482\n",
      "Epochs 1 : w =  2.482 , loss= 1.25034165\n",
      "Epochs 3 : w =  2.483 , loss= 1.25031519\n",
      "Epochs 5 : w =  2.483 , loss= 1.25029063\n",
      "Epochs 7 : w =  2.484 , loss= 1.25026798\n",
      "Epochs 9 : w =  2.485 , loss= 1.25024724\n",
      "Epochs 11 : w =  2.485 , loss= 1.25022793\n",
      "Epochs 13 : w =  2.486 , loss= 1.25021052\n",
      "Epochs 15 : w =  2.486 , loss= 1.25019407\n",
      "Epochs 17 : w =  2.487 , loss= 1.25017905\n",
      "Epochs 19 : w =  2.487 , loss= 1.25016522\n",
      "Prediction after training: f(5) = 7.488\n"
     ]
    }
   ],
   "source": [
    "# Model Prediction\n",
    "def forward(x):\n",
    "    return x+w\n",
    "\n",
    "# Loss = MSE\n",
    "def loss(y , y_predicted):\n",
    "    return ((y_predicted - y)**2).mean()\n",
    "\n",
    "# In PyTorch gradient is done automatically by PyTorch here gradients = backward()\n",
    "\n",
    "print(f'Prediction before training: f(5) = {forward(5):.3f}')\n",
    "\n",
    "# Training the model now\n",
    "learning_rate = 0.01\n",
    "n_iters = 20\n",
    "\n",
    "for epochs in range(n_iters):\n",
    "    \n",
    "    # Prediction = forward pass\n",
    "    y_pred = forward(X)\n",
    "    \n",
    "    # Loss\n",
    "    l = loss(Y, y_pred)\n",
    "    \n",
    "    # Gradient = backward\n",
    "    l.backward()\n",
    "    \n",
    "    # Update weights\n",
    "    with torch.no_grad():\n",
    "        w -= learning_rate * w.grad\n",
    "    \n",
    "    # Empty the gradient\n",
    "    w.grad.zero_()\n",
    "    \n",
    "    if epochs % 2 == 0:\n",
    "        print(f'Epochs {epochs+1} : w = {w: .3f} , loss= {l:.8f}')\n",
    "\n",
    "print(f'Prediction after training: f(5) = {forward(5):.3f}')\n"
   ]
  },
  {
   "cell_type": "code",
   "execution_count": null,
   "id": "aef785ae",
   "metadata": {},
   "outputs": [],
   "source": []
  }
 ],
 "metadata": {
  "kernelspec": {
   "display_name": "Python 3 (ipykernel)",
   "language": "python",
   "name": "python3"
  },
  "language_info": {
   "codemirror_mode": {
    "name": "ipython",
    "version": 3
   },
   "file_extension": ".py",
   "mimetype": "text/x-python",
   "name": "python",
   "nbconvert_exporter": "python",
   "pygments_lexer": "ipython3",
   "version": "3.9.13"
  }
 },
 "nbformat": 4,
 "nbformat_minor": 5
}
