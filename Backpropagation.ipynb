{
 "cells": [
  {
   "cell_type": "markdown",
   "id": "87236391",
   "metadata": {},
   "source": [
    "### Backpropagation consists of these important steps:\n",
    "- Forward pass = Compute the loss\n",
    "- Compute local gradient\n",
    "- Backward pass = Compute dloss/ dWeights using the chain rule"
   ]
  },
  {
   "cell_type": "code",
   "execution_count": 2,
   "id": "b8e1256e",
   "metadata": {},
   "outputs": [],
   "source": [
    "import torch"
   ]
  },
  {
   "cell_type": "code",
   "execution_count": 7,
   "id": "ab329868",
   "metadata": {},
   "outputs": [
    {
     "name": "stdout",
     "output_type": "stream",
     "text": [
      "tensor(1., grad_fn=<PowBackward0>)\n",
      "tensor(-2.)\n"
     ]
    }
   ],
   "source": [
    "x = torch.tensor(1.0)\n",
    "y = torch.tensor(2.0)\n",
    "\n",
    "w = torch.tensor(1.0 , requires_grad = True)\n",
    "\n",
    "# Forward pass and compute the loss\n",
    "y_hat = w * x\n",
    "loss = (y_hat - y)**2\n",
    "\n",
    "print(loss)\n",
    "\n",
    "# Backward pass\n",
    "loss.backward()\n",
    "print(w.grad)"
   ]
  },
  {
   "cell_type": "markdown",
   "id": "d83c1f67",
   "metadata": {},
   "source": [
    "- In further steps we again do forward pass then backward propagation until the loss function become minimum"
   ]
  },
  {
   "cell_type": "code",
   "execution_count": null,
   "id": "153dbce6",
   "metadata": {},
   "outputs": [],
   "source": []
  }
 ],
 "metadata": {
  "kernelspec": {
   "display_name": "Python 3 (ipykernel)",
   "language": "python",
   "name": "python3"
  },
  "language_info": {
   "codemirror_mode": {
    "name": "ipython",
    "version": 3
   },
   "file_extension": ".py",
   "mimetype": "text/x-python",
   "name": "python",
   "nbconvert_exporter": "python",
   "pygments_lexer": "ipython3",
   "version": "3.9.13"
  }
 },
 "nbformat": 4,
 "nbformat_minor": 5
}
