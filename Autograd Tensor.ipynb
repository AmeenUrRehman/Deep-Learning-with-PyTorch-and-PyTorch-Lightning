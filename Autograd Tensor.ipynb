{
 "cells": [
  {
   "cell_type": "code",
   "execution_count": 1,
   "id": "6e301c16",
   "metadata": {},
   "outputs": [],
   "source": [
    "import torch"
   ]
  },
  {
   "cell_type": "code",
   "execution_count": 2,
   "id": "27082262",
   "metadata": {},
   "outputs": [
    {
     "name": "stdout",
     "output_type": "stream",
     "text": [
      "tensor([-0.4767, -1.2095,  0.6034], requires_grad=True)\n"
     ]
    }
   ],
   "source": [
    "# By default torch takes gradient as false so have to change that it True\n",
    "x = torch.randn(3, requires_grad = True)\n",
    "print(x)"
   ]
  },
  {
   "cell_type": "code",
   "execution_count": 3,
   "id": "93061187",
   "metadata": {},
   "outputs": [
    {
     "name": "stdout",
     "output_type": "stream",
     "text": [
      "tensor([1.5233, 0.7905, 2.6034], grad_fn=<AddBackward0>)\n",
      "tensor([-0.9535, -2.4190,  1.2068], grad_fn=<MulBackward0>)\n"
     ]
    }
   ],
   "source": [
    "# Mathematical Operation\n",
    "y = x + 2\n",
    "print(y) \n",
    "# Above we add values in backward propogation\n",
    "\n",
    "y = x * 2\n",
    "print(y)\n",
    "\n",
    "# Above we multiply in backward propagation"
   ]
  },
  {
   "cell_type": "raw",
   "id": "41a66b43",
   "metadata": {},
   "source": [
    "# Torch create a computation graph for each operations and do auto gradient by itselt"
   ]
  },
  {
   "cell_type": "code",
   "execution_count": 4,
   "id": "dceaceb7",
   "metadata": {},
   "outputs": [
    {
     "name": "stdout",
     "output_type": "stream",
     "text": [
      "tensor([0.6667, 0.6667, 0.6667])\n"
     ]
    }
   ],
   "source": [
    "# Backward function for this we have to make sure requires_grad is True\n",
    "z = y.mean()\n",
    "# For backpropogation the values have to be scalar and have to run required_grad line for second time for backward()\n",
    "z.backward()\n",
    "print(x.grad)"
   ]
  },
  {
   "cell_type": "code",
   "execution_count": 9,
   "id": "1fd99193",
   "metadata": {},
   "outputs": [
    {
     "name": "stdout",
     "output_type": "stream",
     "text": [
      "tensor([-0.0418, -0.4191,  0.2097], requires_grad=True)\n",
      "tensor([-0.0418, -0.4191,  0.2097])\n"
     ]
    }
   ],
   "source": [
    "# Sometimes we have to remove the gradient history so to do this we have 3 Options\n",
    "# 1st is requires_grad(False)\n",
    "req_x = torch.randn(3, requires_grad = True)\n",
    "print(req_x)\n",
    "# Remove the gradient history\n",
    "req_x.requires_grad_(False)\n",
    "print(req_x)"
   ]
  },
  {
   "cell_type": "code",
   "execution_count": 10,
   "id": "0c4b7720",
   "metadata": {},
   "outputs": [
    {
     "name": "stdout",
     "output_type": "stream",
     "text": [
      "tensor([-0.0418, -0.4191,  0.2097])\n"
     ]
    }
   ],
   "source": [
    "# 2nd use detach() function\n",
    "y = req_x.detach()\n",
    "print(y)"
   ]
  },
  {
   "cell_type": "code",
   "execution_count": 12,
   "id": "f0501286",
   "metadata": {},
   "outputs": [
    {
     "name": "stdout",
     "output_type": "stream",
     "text": [
      "tensor([1.5233, 0.7905, 2.6034])\n"
     ]
    }
   ],
   "source": [
    "# 3rd Option\n",
    "with torch.no_grad():\n",
    "    y = x + 2\n",
    "    print(y)"
   ]
  },
  {
   "cell_type": "code",
   "execution_count": 14,
   "id": "4531cb6a",
   "metadata": {},
   "outputs": [
    {
     "name": "stdout",
     "output_type": "stream",
     "text": [
      "tensor([3., 3., 3.])\n",
      "tensor([3., 3., 3.])\n"
     ]
    }
   ],
   "source": [
    "# Let's train a dummy example\n",
    "weights = torch.ones(3, requires_grad = True)\n",
    "for i in range(2):\n",
    "    model_output = (weights * 3).sum()\n",
    "    model_output.backward()\n",
    "    print(weights.grad)\n",
    "    # It clears the stored values or empty the tensor every time otherwise our model runs incorrectly\n",
    "    weights.grad.zero_()"
   ]
  },
  {
   "cell_type": "code",
   "execution_count": null,
   "id": "a13942df",
   "metadata": {},
   "outputs": [],
   "source": []
  }
 ],
 "metadata": {
  "kernelspec": {
   "display_name": "Python 3 (ipykernel)",
   "language": "python",
   "name": "python3"
  },
  "language_info": {
   "codemirror_mode": {
    "name": "ipython",
    "version": 3
   },
   "file_extension": ".py",
   "mimetype": "text/x-python",
   "name": "python",
   "nbconvert_exporter": "python",
   "pygments_lexer": "ipython3",
   "version": "3.9.13"
  }
 },
 "nbformat": 4,
 "nbformat_minor": 5
}
