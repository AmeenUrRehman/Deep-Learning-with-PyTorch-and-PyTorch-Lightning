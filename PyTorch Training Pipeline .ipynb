{
 "cells": [
  {
   "cell_type": "markdown",
   "id": "909bd3cd",
   "metadata": {},
   "source": [
    "### PyTorch Pipeline Structure"
   ]
  },
  {
   "cell_type": "raw",
   "id": "a7690b13",
   "metadata": {},
   "source": [
    "1) Design model (input,output size, forward pass) \n",
    "2) Construct loss and optimizer \n",
    "3) Training Loop \n",
    "- forward pass: Compute prediction\n",
    "- backward pass: Gradients\n",
    "- Update Weights"
   ]
  },
  {
   "cell_type": "code",
   "execution_count": 1,
   "id": "a78a2f72",
   "metadata": {},
   "outputs": [],
   "source": [
    "import torch\n",
    "import torch.nn as nn"
   ]
  },
  {
   "cell_type": "code",
   "execution_count": 2,
   "id": "86ebd35f",
   "metadata": {},
   "outputs": [],
   "source": [
    "X = torch.tensor([1,2,3,4] , dtype = torch.float32)\n",
    "Y = torch.tensor([2,4,6,8] , dtype = torch.float32)\n",
    "w = torch.tensor(0.0 , dtype = torch.float32 , requires_grad = True)"
   ]
  },
  {
   "cell_type": "code",
   "execution_count": 3,
   "id": "44f87dff",
   "metadata": {},
   "outputs": [],
   "source": [
    "# Model Prediction\n",
    "def forward(x):\n",
    "    return x*w"
   ]
  },
  {
   "cell_type": "code",
   "execution_count": 5,
   "id": "0af76962",
   "metadata": {},
   "outputs": [
    {
     "name": "stdout",
     "output_type": "stream",
     "text": [
      "Epochs 1 : w =  1.934 , loss= 0.04506890\n",
      "Epochs 3 : w =  1.952 , loss= 0.02352631\n",
      "Epochs 5 : w =  1.966 , loss= 0.01228084\n",
      "Epochs 7 : w =  1.975 , loss= 0.00641066\n",
      "Epochs 9 : w =  1.982 , loss= 0.00334642\n",
      "Epochs 11 : w =  1.987 , loss= 0.00174685\n",
      "Epochs 13 : w =  1.991 , loss= 0.00091188\n",
      "Epochs 15 : w =  1.993 , loss= 0.00047601\n",
      "Epochs 17 : w =  1.995 , loss= 0.00024848\n",
      "Epochs 19 : w =  1.996 , loss= 0.00012971\n",
      "Prediction after training: f(5) = 9.985\n"
     ]
    }
   ],
   "source": [
    "# Training Loop\n",
    "learning_rate = 0.01\n",
    "n_iter = 20\n",
    "\n",
    "# Loss function\n",
    "loss = nn.MSELoss()\n",
    "\n",
    "# Optimizer function\n",
    "optimizer = torch.optim.SGD([w], lr= learning_rate)\n",
    "\n",
    "# Loop\n",
    "for epochs in range(n_iter):\n",
    "    \n",
    "    # Prediction = forward pass\n",
    "    y_pred = forward(X)\n",
    "    \n",
    "    # Loss\n",
    "    l = loss(Y, y_pred)\n",
    "    \n",
    "    # Gradient = Backward\n",
    "    l.backward()\n",
    "    \n",
    "    # Update Weights\n",
    "    optimizer.step()\n",
    "    \n",
    "    # Zero Gradient\n",
    "    optimizer.zero_grad()\n",
    "    \n",
    "    # To analyze the loss and epochs \n",
    "    if epochs % 2 == 0:\n",
    "        print(f'Epochs {epochs+1} : w = {w: .3f} , loss= {l:.8f}')\n",
    "    \n",
    "print(f'Prediction after training: f(5) = {forward(5):.3f}')"
   ]
  },
  {
   "cell_type": "markdown",
   "id": "1b5b1207",
   "metadata": {},
   "source": [
    "## Using PyTorch pre-built models for prediction"
   ]
  },
  {
   "cell_type": "markdown",
   "id": "f71411e2",
   "metadata": {},
   "source": [
    "In PyTorch we don't need weights parameters as these are automatically maintained by PyTorch libraries"
   ]
  },
  {
   "cell_type": "code",
   "execution_count": 19,
   "id": "67fbf18f",
   "metadata": {},
   "outputs": [
    {
     "name": "stdout",
     "output_type": "stream",
     "text": [
      "4 1\n",
      "Prediction before training : f(5) = -3.057\n",
      "Epochs 1 : w = -0.018 , loss= 56.16755676\n",
      "Epochs 3 : w =  0.607 , loss= 27.04340553\n",
      "Epochs 5 : w =  1.042 , loss= 13.02105427\n",
      "Epochs 7 : w =  1.343 , loss= 6.26973581\n",
      "Epochs 9 : w =  1.552 , loss= 3.01918793\n",
      "Epochs 11 : w =  1.697 , loss= 1.45414698\n",
      "Epochs 13 : w =  1.798 , loss= 0.70062351\n",
      "Epochs 15 : w =  1.867 , loss= 0.33782065\n",
      "Epochs 17 : w =  1.916 , loss= 0.16313666\n",
      "Epochs 19 : w =  1.949 , loss= 0.07902639\n",
      "Prediction after training: f(5) = 9.713\n"
     ]
    }
   ],
   "source": [
    "# Creating customized variables\n",
    "X = torch.tensor([[1],[2],[3],[4]] , dtype = torch.float32)\n",
    "Y = torch.tensor([[2],[4],[6],[8]] , dtype = torch.float32)\n",
    "\n",
    "# Creating test variable\n",
    "X_test = torch.tensor([5] , dtype = torch.float32)\n",
    "\n",
    "n_samples, n_features = X.shape\n",
    "print(n_samples, n_features)\n",
    "\n",
    "input_size = n_features\n",
    "output_size = n_features\n",
    "\n",
    "# Initializing Models\n",
    "model = nn.Linear(input_size,output_size)\n",
    "\n",
    "print(f'Prediction before training : f(5) = {model(X_test).item():.3f}')\n",
    "\n",
    "# Training Loop\n",
    "learning_rate = 0.01\n",
    "n_iter = 20\n",
    "\n",
    "# Loss function\n",
    "loss = nn.MSELoss()\n",
    "\n",
    "# Optimizer function\n",
    "optimizer = torch.optim.SGD(model.parameters() ,lr= learning_rate)\n",
    "\n",
    "# Loop\n",
    "for epochs in range(n_iter):\n",
    "    \n",
    "    # Prediction = forward pass\n",
    "    y_pred = model(X)\n",
    "    \n",
    "    # Loss\n",
    "    l = loss(Y, y_pred)\n",
    "    \n",
    "    # Gradient = Backward\n",
    "    l.backward()\n",
    "    \n",
    "    # Update Weights\n",
    "    optimizer.step()\n",
    "    \n",
    "    # Zero Gradient\n",
    "    optimizer.zero_grad()\n",
    "    \n",
    "    # To analyze the loss and epochs \n",
    "    if epochs % 2 == 0:\n",
    "        [w,b] = model.parameters()\n",
    "        print(f'Epochs {epochs+1} : w = {w[0][0].item(): .3f} , loss= {l:.8f}')\n",
    "    \n",
    "print(f'Prediction after training: f(5) = {model(X_test).item():.3f}')"
   ]
  },
  {
   "cell_type": "code",
   "execution_count": 22,
   "id": "c57bfe89",
   "metadata": {},
   "outputs": [],
   "source": [
    "# Creating a custom class for model prediction\n",
    "\n",
    "class LinearRegression(nn.Module):\n",
    "    \n",
    "    def __init__(self,input_dim, output_dim):\n",
    "        super(LinearRegression, self).__init__()\n",
    "        \n",
    "        # Define layers\n",
    "        self.linear = nn.Linear(input_dim, output_dim)\n",
    "        \n",
    "    def forward(self,x):\n",
    "        return self.linear(x)\n",
    "\n",
    "model = LinearRegression(input_size,output_size)"
   ]
  },
  {
   "cell_type": "code",
   "execution_count": null,
   "id": "f1de038f",
   "metadata": {},
   "outputs": [],
   "source": []
  },
  {
   "cell_type": "code",
   "execution_count": null,
   "id": "694f535e",
   "metadata": {},
   "outputs": [],
   "source": []
  },
  {
   "cell_type": "code",
   "execution_count": 11,
   "id": "5cea779f",
   "metadata": {},
   "outputs": [],
   "source": []
  },
  {
   "cell_type": "code",
   "execution_count": null,
   "id": "04732b0c",
   "metadata": {},
   "outputs": [],
   "source": []
  }
 ],
 "metadata": {
  "kernelspec": {
   "display_name": "Python 3 (ipykernel)",
   "language": "python",
   "name": "python3"
  },
  "language_info": {
   "codemirror_mode": {
    "name": "ipython",
    "version": 3
   },
   "file_extension": ".py",
   "mimetype": "text/x-python",
   "name": "python",
   "nbconvert_exporter": "python",
   "pygments_lexer": "ipython3",
   "version": "3.9.13"
  }
 },
 "nbformat": 4,
 "nbformat_minor": 5
}
