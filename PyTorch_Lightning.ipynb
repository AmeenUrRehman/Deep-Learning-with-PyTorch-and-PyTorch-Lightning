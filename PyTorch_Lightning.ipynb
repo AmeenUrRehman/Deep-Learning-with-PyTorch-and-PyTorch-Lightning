{
  "nbformat": 4,
  "nbformat_minor": 0,
  "metadata": {
    "colab": {
      "provenance": []
    },
    "kernelspec": {
      "name": "python3",
      "display_name": "Python 3"
    },
    "language_info": {
      "name": "python"
    }
  },
  "cells": [
    {
      "cell_type": "code",
      "source": [
        "!pip install pytorch-lightning"
      ],
      "metadata": {
        "id": "rlQPg6wtBuIZ"
      },
      "execution_count": null,
      "outputs": []
    },
    {
      "cell_type": "code",
      "source": [
        "# Importing libraries \n",
        "import torch\n",
        "from torch import nn\n",
        "from torch import optim\n",
        "from torchvision import datasets, transforms\n",
        "from torch.utils.data import random_split, DataLoader,Dataset"
      ],
      "metadata": {
        "id": "epH9r1NsYvZt"
      },
      "execution_count": null,
      "outputs": []
    },
    {
      "cell_type": "code",
      "source": [
        "import torch\n",
        "import pytorch_lightning as pl\n",
        "\n",
        "class MyModule(ivy.Module):\n",
        "\n",
        "    def __init__(self):\n",
        "        super().__init__()\n",
        "        self.linear1 = ivy.Linear(28*28, 64)\n",
        "        self.linear2 = ivy.Linear(64, 10)\n",
        "\n",
        "    def forward(self, x):\n",
        "        x = ivy.relu(self.linear1(x))\n",
        "        x = self.linear2(x)\n",
        "        return x\n",
        "\n",
        "class MyLightningModule(pl.LightningModule):\n",
        "\n",
        "    def __init__(self):\n",
        "        # Here we Instantiate all our models\n",
        "        super().__init__()\n",
        "        self.l1 = ivy.Linear(28 * 28 , 64)\n",
        "        self.l2 = ivy.Linear(64,64)\n",
        "        self.l3 = ivy.Linear(64,10)\n",
        "        self.do = ivy.Dropout(0.1) # Dropout can drastically reduce the chance of overfitting\n",
        "        self.loss = ivy.CrossEntropyLoss()\n",
        "\n",
        "      # Define the network structure\n",
        "    def forward(self , x):\n",
        "        h1 = ivy.functional.relu(self.l1(x))\n",
        "        h2 = ivy.functional.relu(self.l2(h1))\n",
        "        do = self.do(h2+h1)\n",
        "        logits = self.l3(do) # Return raw values for our predictions\n",
        "        return logits\n",
        "\n",
        "    def training_step(self, batch, batch_idx):\n",
        "        x, y = batch\n",
        "        y_hat = self(x)\n",
        "        loss = ivy.binary_cross_entropy_with_logits(y_hat, y)\n",
        "        self.log('train_loss', loss)\n",
        "        return loss\n",
        "\n",
        "    def configure_optimizers(self):\n",
        "        optimizer = torch.optim.Adam(self.parameters(), lr=1e-3)\n",
        "        return optimizer\n",
        "    def prepare_data(self):\n",
        "        datasets.MNIST('data' , train = True , download= True, transform= transforms.ToTensor())\n",
        "\n",
        "    def setup(self,stage = None):\n",
        "        dataset = datasets.MNIST('data' , train = True , download= False, transform= transforms.ToTensor())\n",
        "        self.train , self.val = random_split(dataset , [55000 ,5000])\n",
        "\n",
        "    def train_dataloader(self):   \n",
        "        # Train and load data [Train,Val, data in Pytorch]\n",
        "        train_loader = DataLoader(self.train , batch_size = 32)\n",
        "        return train_loader\n",
        "\n",
        "    def val_loader(self):\n",
        "        val_loader = DataLoader(self.val , batch_size = 32)\n",
        "        return val_loader"
      ],
      "metadata": {
        "id": "4U8cgwnP_2PV"
      },
      "execution_count": null,
      "outputs": []
    },
    {
      "cell_type": "code",
      "source": [
        "from pytorch_lightning.callbacks.progress.base import ProgressBarBase\n",
        "# Training and fitting the model\n",
        "trainer = pl.Trainer(enable_progress_bar= 20 , max_epochs= 5 , gpus = 1)\n",
        "trainer.fit(model)"
      ],
      "metadata": {
        "id": "d1nDRH8mB5bq"
      },
      "execution_count": null,
      "outputs": []
    }
  ]
}