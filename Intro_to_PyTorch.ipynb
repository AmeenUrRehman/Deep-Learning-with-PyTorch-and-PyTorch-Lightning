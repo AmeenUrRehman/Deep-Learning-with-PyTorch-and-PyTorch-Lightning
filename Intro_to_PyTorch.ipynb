{
  "nbformat": 4,
  "nbformat_minor": 0,
  "metadata": {
    "colab": {
      "provenance": []
    },
    "kernelspec": {
      "name": "python3",
      "display_name": "Python 3"
    },
    "language_info": {
      "name": "python"
    },
    "gpuClass": "standard"
  },
  "cells": [
    {
      "cell_type": "code",
      "execution_count": null,
      "metadata": {
        "id": "p0k-QtTwREHH"
      },
      "outputs": [],
      "source": [
        "import torch"
      ]
    },
    {
      "cell_type": "markdown",
      "source": [
        "**Intro to Pytorch**"
      ],
      "metadata": {
        "id": "XKkvWXuWRjdA"
      }
    },
    {
      "cell_type": "markdown",
      "source": [
        "PyTorch is an open source machine learning framework that allows you to write your own neural networks and optimize them efficiently."
      ],
      "metadata": {
        "id": "b1hh2sLbRrHe"
      }
    },
    {
      "cell_type": "code",
      "source": [
        "import time\n",
        "\n",
        "import matplotlib.pyplot as plt\n",
        "import numpy as np\n",
        "import torch\n",
        "import torch.nn as nn\n",
        "import torch.utils.data as data\n",
        "\n",
        "%matplotlib inline\n",
        "from IPython.display import set_matplotlib_formats\n",
        "from matplotlib.colors import to_rgba\n",
        "from torch import Tensor\n",
        "from tqdm.notebook import tqdm  # Progress bar\n",
        "\n",
        "set_matplotlib_formats(\"svg\", \"pdf\")"
      ],
      "metadata": {
        "id": "VIoje70oRtIz"
      },
      "execution_count": null,
      "outputs": []
    },
    {
      "cell_type": "code",
      "source": [
        "print(\"Using version\" , torch.__version__)"
      ],
      "metadata": {
        "colab": {
          "base_uri": "https://localhost:8080/"
        },
        "id": "CvXbbYhfUbdD",
        "outputId": "452387d8-6f2d-40ca-f2fe-b300165da28b"
      },
      "execution_count": null,
      "outputs": [
        {
          "output_type": "stream",
          "name": "stdout",
          "text": [
            "Using version 1.13.1+cu116\n"
          ]
        }
      ]
    },
    {
      "cell_type": "markdown",
      "source": [
        "PyTorch provides functions that are stochastic like generating random numbers"
      ],
      "metadata": {
        "id": "ULybkwAoiOjf"
      }
    },
    {
      "cell_type": "code",
      "source": [
        "torch.manual_seed(42) "
      ],
      "metadata": {
        "colab": {
          "base_uri": "https://localhost:8080/"
        },
        "id": "q8XnEdINh6pa",
        "outputId": "2890a4b6-7046-45d9-cfea-6807a39c00ed"
      },
      "execution_count": null,
      "outputs": [
        {
          "output_type": "execute_result",
          "data": {
            "text/plain": [
              "<torch._C.Generator at 0x7f21ec03e8b0>"
            ]
          },
          "metadata": {},
          "execution_count": 4
        }
      ]
    },
    {
      "cell_type": "markdown",
      "source": [
        "Tensors are the PyTorch equivalent to Numpy arrays, with the addition to also have support for GPU acceleration (more on that later). The name “tensor” is a generalization of concepts you already know. For instance, a vector is a 1-D tensor, and a matrix a 2-D tensor. When working with neural networks, we will use tensors of various shapes and number of dimensions."
      ],
      "metadata": {
        "id": "xbYYclHmjpVp"
      }
    },
    {
      "cell_type": "code",
      "source": [
        "x = Tensor(2,3,4)\n",
        "print(x)"
      ],
      "metadata": {
        "colab": {
          "base_uri": "https://localhost:8080/"
        },
        "id": "T9-cjZbliXwY",
        "outputId": "08b076b7-6a15-48a9-f750-9d82a571803d"
      },
      "execution_count": null,
      "outputs": [
        {
          "output_type": "stream",
          "name": "stdout",
          "text": [
            "tensor([[[2.1715e-18, 1.0791e-08, 4.2932e-08, 6.7576e-07],\n",
            "         [2.6219e-09, 3.1950e+21, 1.3097e-11, 1.0860e-05],\n",
            "         [2.5785e-09, 2.1271e-07, 2.1707e-18, 4.5447e+30]],\n",
            "\n",
            "        [[7.0062e+22, 2.1715e-18, 4.5447e+30, 7.0062e+22],\n",
            "         [2.1707e-18, 1.9284e+31, 3.2314e-18, 1.5462e-04],\n",
            "         [5.3601e-08, 1.0197e-11, 1.6805e-04, 8.3748e-10]]])\n"
          ]
        }
      ]
    },
    {
      "cell_type": "code",
      "source": [
        "y = torch.ones\n",
        "print(y)"
      ],
      "metadata": {
        "colab": {
          "base_uri": "https://localhost:8080/"
        },
        "id": "c1z4lOFHlCZI",
        "outputId": "a9237507-d5bd-49fc-d540-d4580c9f313c"
      },
      "execution_count": null,
      "outputs": [
        {
          "output_type": "stream",
          "name": "stdout",
          "text": [
            "<built-in method ones of type object at 0x7f21c16c4420>\n"
          ]
        }
      ]
    },
    {
      "cell_type": "code",
      "source": [
        "z = Tensor([[1,2],[3,4]])\n",
        "print(z)\n",
        "print(z.shape)"
      ],
      "metadata": {
        "colab": {
          "base_uri": "https://localhost:8080/"
        },
        "id": "_mVDD9Wzlavi",
        "outputId": "c5ae3a09-9a49-40a3-d27c-3e57e091cbb0"
      },
      "execution_count": null,
      "outputs": [
        {
          "output_type": "stream",
          "name": "stdout",
          "text": [
            "tensor([[1., 2.],\n",
            "        [3., 4.]])\n",
            "torch.Size([2, 2])\n"
          ]
        }
      ]
    },
    {
      "cell_type": "code",
      "source": [
        "xt = torch.rand(2,3,4)\n",
        "print(xt)"
      ],
      "metadata": {
        "colab": {
          "base_uri": "https://localhost:8080/"
        },
        "id": "G39lwSvSlqY1",
        "outputId": "5bfacbd2-0450-4515-c518-078676fbe1f8"
      },
      "execution_count": null,
      "outputs": [
        {
          "output_type": "stream",
          "name": "stdout",
          "text": [
            "tensor([[[0.8823, 0.9150, 0.3829, 0.9593],\n",
            "         [0.3904, 0.6009, 0.2566, 0.7936],\n",
            "         [0.9408, 0.1332, 0.9346, 0.5936]],\n",
            "\n",
            "        [[0.8694, 0.5677, 0.7411, 0.4294],\n",
            "         [0.8854, 0.5739, 0.2666, 0.6274],\n",
            "         [0.2696, 0.4414, 0.2969, 0.8317]]])\n"
          ]
        }
      ]
    },
    {
      "cell_type": "code",
      "source": [
        "print(xt.shape)\n",
        "print(xt.size())"
      ],
      "metadata": {
        "colab": {
          "base_uri": "https://localhost:8080/"
        },
        "id": "9flAjQMOmDlI",
        "outputId": "665a90a8-ad3d-4c47-8c93-7416444df877"
      },
      "execution_count": null,
      "outputs": [
        {
          "output_type": "stream",
          "name": "stdout",
          "text": [
            "torch.Size([2, 3, 4])\n",
            "torch.Size([2, 3, 4])\n"
          ]
        }
      ]
    },
    {
      "cell_type": "markdown",
      "source": [
        "**Tensor to Numpy, and Numpy to Tensor**"
      ],
      "metadata": {
        "id": "cAYbH0ecmz1W"
      }
    },
    {
      "cell_type": "markdown",
      "source": [
        "Tensors can be converted to numpy arrays, and numpy arrays back to tensors. To transform a numpy array into a tensor, we can use the function torch.from_numpy:"
      ],
      "metadata": {
        "id": "qf6xMVWAnDo0"
      }
    },
    {
      "cell_type": "code",
      "source": [
        "np_tr = np.array([[1,2],[3,4]])\n",
        "tensor = torch.from_numpy(np_tr)\n",
        "print(tensor)"
      ],
      "metadata": {
        "colab": {
          "base_uri": "https://localhost:8080/"
        },
        "id": "YVWlIM8wmiif",
        "outputId": "2f9f4ea8-6cca-41be-fc3d-645ba3830803"
      },
      "execution_count": null,
      "outputs": [
        {
          "output_type": "stream",
          "name": "stdout",
          "text": [
            "tensor([[1, 2],\n",
            "        [3, 4]])\n"
          ]
        }
      ]
    },
    {
      "cell_type": "code",
      "source": [
        "tor = torch.arange(4)\n",
        "np_arr = tor.numpy()\n",
        "print(np_arr)"
      ],
      "metadata": {
        "colab": {
          "base_uri": "https://localhost:8080/"
        },
        "id": "MqouookSneXO",
        "outputId": "c9c8d879-3e17-42f3-8294-caae836a2635"
      },
      "execution_count": null,
      "outputs": [
        {
          "output_type": "stream",
          "name": "stdout",
          "text": [
            "[0 1 2 3]\n"
          ]
        }
      ]
    },
    {
      "cell_type": "code",
      "source": [
        "x1 = torch.rand(2,3)\n",
        "x2 = torch.rand(2,3)\n",
        "y = x1 + x2\n",
        "print(y)\n",
        "print(x2)\n",
        "x2.add_(x1)\n",
        "print(x2)"
      ],
      "metadata": {
        "colab": {
          "base_uri": "https://localhost:8080/"
        },
        "id": "orvXNRfYnwXu",
        "outputId": "87aaee4f-aea1-46b5-e110-8d2ae481d760"
      },
      "execution_count": null,
      "outputs": [
        {
          "output_type": "stream",
          "name": "stdout",
          "text": [
            "tensor([[1.0569, 0.3448, 1.2448],\n",
            "        [0.7826, 0.8848, 0.8151]])\n",
            "tensor([[0.9516, 0.0753, 0.8860],\n",
            "        [0.5832, 0.3376, 0.8090]])\n",
            "tensor([[1.0569, 0.3448, 1.2448],\n",
            "        [0.7826, 0.8848, 0.8151]])\n"
          ]
        }
      ]
    },
    {
      "cell_type": "code",
      "source": [
        "x = torch.arange(6)\n",
        "x = x.view(2,3)\n",
        "print(x)"
      ],
      "metadata": {
        "colab": {
          "base_uri": "https://localhost:8080/"
        },
        "id": "KDTcV8HxoHCZ",
        "outputId": "de53b69c-3fb3-4029-fbea-c038653f78e5"
      },
      "execution_count": null,
      "outputs": [
        {
          "output_type": "stream",
          "name": "stdout",
          "text": [
            "tensor([[0, 1, 2],\n",
            "        [3, 4, 5]])\n"
          ]
        }
      ]
    },
    {
      "cell_type": "code",
      "source": [
        "x = x.permute(1,0)\n",
        "print(x)"
      ],
      "metadata": {
        "colab": {
          "base_uri": "https://localhost:8080/"
        },
        "id": "-Z551YzbwjLt",
        "outputId": "2184b731-d7e5-42f1-fa54-ac2049e52e0e"
      },
      "execution_count": null,
      "outputs": [
        {
          "output_type": "stream",
          "name": "stdout",
          "text": [
            "tensor([[0, 3],\n",
            "        [1, 4],\n",
            "        [2, 5]])\n"
          ]
        }
      ]
    },
    {
      "cell_type": "code",
      "source": [
        "over = torch.arange(6).view(2,3)\n",
        "print(over)"
      ],
      "metadata": {
        "colab": {
          "base_uri": "https://localhost:8080/"
        },
        "id": "k3qwgKPrxYol",
        "outputId": "defc1373-f5a5-4e73-86ac-389049e16010"
      },
      "execution_count": null,
      "outputs": [
        {
          "output_type": "stream",
          "name": "stdout",
          "text": [
            "tensor([[0, 1, 2],\n",
            "        [3, 4, 5]])\n"
          ]
        }
      ]
    },
    {
      "cell_type": "code",
      "source": [
        "# Matrix Multiply\n",
        "h = torch.matmul(over,x)\n",
        "print(h)"
      ],
      "metadata": {
        "colab": {
          "base_uri": "https://localhost:8080/"
        },
        "id": "CGmjgFEYyKHx",
        "outputId": "012e7592-c7b5-4ebe-a61e-8cedbdfbfb73"
      },
      "execution_count": null,
      "outputs": [
        {
          "output_type": "stream",
          "name": "stdout",
          "text": [
            "tensor([[ 5, 14],\n",
            "        [14, 50]])\n"
          ]
        }
      ]
    },
    {
      "cell_type": "markdown",
      "source": [
        "Each node of the computation graph has automatically defined a function for calculating the gradients with respect to its inputs, grad_fn. You can see this when we printed the output tensor y. This is why the computation graph is usually visualized in the reverse direction (arrows point from the result to the inputs"
      ],
      "metadata": {
        "id": "svwXIPDtzoFc"
      }
    },
    {
      "cell_type": "code",
      "source": [
        "xty = torch.ones((3,))\n",
        "print(x.requires_grad)"
      ],
      "metadata": {
        "colab": {
          "base_uri": "https://localhost:8080/"
        },
        "id": "X2iMJKN7yjjj",
        "outputId": "9a989b7a-0e80-4101-bece-4717b745e147"
      },
      "execution_count": null,
      "outputs": [
        {
          "output_type": "stream",
          "name": "stdout",
          "text": [
            "False\n"
          ]
        }
      ]
    },
    {
      "cell_type": "code",
      "source": [
        "xty.requires_grad = False\n",
        "print(x.retains_grad)"
      ],
      "metadata": {
        "colab": {
          "base_uri": "https://localhost:8080/"
        },
        "id": "vDsV28Y02EOt",
        "outputId": "7669dfb6-557d-4f17-e511-09cb8413791e"
      },
      "execution_count": null,
      "outputs": [
        {
          "output_type": "stream",
          "name": "stdout",
          "text": [
            "False\n"
          ]
        }
      ]
    },
    {
      "cell_type": "code",
      "source": [
        "x4 = torch.arange(3, dtype = torch.float32 , requires_grad= True)\n",
        "print(\"X\" , x4)"
      ],
      "metadata": {
        "colab": {
          "base_uri": "https://localhost:8080/"
        },
        "id": "Ml2gz05b3qB8",
        "outputId": "ff54d3d4-e573-4528-eb7a-ff54afa140b6"
      },
      "execution_count": null,
      "outputs": [
        {
          "output_type": "stream",
          "name": "stdout",
          "text": [
            "X tensor([0., 1., 2.], requires_grad=True)\n"
          ]
        }
      ]
    },
    {
      "cell_type": "markdown",
      "source": [
        "Back Propagation in PyTorch"
      ],
      "metadata": {
        "id": "PvfH5ZUEWlMu"
      }
    },
    {
      "cell_type": "code",
      "source": [
        "bp = torch.tensor(4.0 , requires_grad = True)\n",
        "bp"
      ],
      "metadata": {
        "id": "8h3D7Ju34hQR",
        "colab": {
          "base_uri": "https://localhost:8080/"
        },
        "outputId": "cb34144b-4849-44ab-ffce-830de6c22b36"
      },
      "execution_count": null,
      "outputs": [
        {
          "output_type": "execute_result",
          "data": {
            "text/plain": [
              "tensor(4., requires_grad=True)"
            ]
          },
          "metadata": {},
          "execution_count": 20
        }
      ]
    },
    {
      "cell_type": "code",
      "source": [
        "yb = bp**2\n",
        "yb"
      ],
      "metadata": {
        "colab": {
          "base_uri": "https://localhost:8080/"
        },
        "id": "L_Pd-y1ZYjJe",
        "outputId": "688e2002-4621-493d-a37f-c397018efc9e"
      },
      "execution_count": null,
      "outputs": [
        {
          "output_type": "execute_result",
          "data": {
            "text/plain": [
              "tensor(16., grad_fn=<PowBackward0>)"
            ]
          },
          "metadata": {},
          "execution_count": 21
        }
      ]
    },
    {
      "cell_type": "code",
      "source": [
        "# For backpropagation\n",
        "yb.backward()"
      ],
      "metadata": {
        "id": "sME5I86RY4ir"
      },
      "execution_count": null,
      "outputs": []
    },
    {
      "cell_type": "code",
      "source": [
        "# After backpropagation means it does derivation on yb as yb = 2*bp\n",
        "print(bp.grad)"
      ],
      "metadata": {
        "colab": {
          "base_uri": "https://localhost:8080/"
        },
        "id": "AFBchLCgZZXw",
        "outputId": "3dee4451-cb16-41f7-94a2-b25eac1b77b4"
      },
      "execution_count": null,
      "outputs": [
        {
          "output_type": "stream",
          "name": "stdout",
          "text": [
            "tensor(8.)\n"
          ]
        }
      ]
    },
    {
      "cell_type": "code",
      "source": [
        "lst = [[2.,3.,4.] , [5.,6.,7.] , [8.,9.,10]]\n",
        "mo = torch.tensor(lst, requires_grad = True)"
      ],
      "metadata": {
        "id": "q_m7DyJsZdA_"
      },
      "execution_count": null,
      "outputs": []
    },
    {
      "cell_type": "code",
      "source": [
        "mo"
      ],
      "metadata": {
        "colab": {
          "base_uri": "https://localhost:8080/"
        },
        "id": "VL7VG-QYa6EA",
        "outputId": "6ba2a8a0-3fbf-4414-ab88-376b5edd1d6b"
      },
      "execution_count": null,
      "outputs": [
        {
          "output_type": "execute_result",
          "data": {
            "text/plain": [
              "tensor([[ 2.,  3.,  4.],\n",
              "        [ 5.,  6.,  7.],\n",
              "        [ 8.,  9., 10.]], requires_grad=True)"
            ]
          },
          "metadata": {},
          "execution_count": 25
        }
      ]
    },
    {
      "cell_type": "code",
      "source": [
        "answ = mo**3 + mo**2\n",
        "answ"
      ],
      "metadata": {
        "colab": {
          "base_uri": "https://localhost:8080/"
        },
        "id": "yOfqGBWna7mG",
        "outputId": "99496322-269a-4b9d-a32e-dd85ef028dd7"
      },
      "execution_count": null,
      "outputs": [
        {
          "output_type": "execute_result",
          "data": {
            "text/plain": [
              "tensor([[  12.,   36.,   80.],\n",
              "        [ 150.,  252.,  392.],\n",
              "        [ 576.,  810., 1100.]], grad_fn=<AddBackward0>)"
            ]
          },
          "metadata": {},
          "execution_count": 26
        }
      ]
    },
    {
      "cell_type": "code",
      "source": [
        "su = answ.sum()\n",
        "print(su)"
      ],
      "metadata": {
        "colab": {
          "base_uri": "https://localhost:8080/"
        },
        "id": "ijms6vSFb1JO",
        "outputId": "1032e65f-33ea-4387-b40e-22433f01701e"
      },
      "execution_count": null,
      "outputs": [
        {
          "output_type": "stream",
          "name": "stdout",
          "text": [
            "tensor(3408., grad_fn=<SumBackward0>)\n"
          ]
        }
      ]
    },
    {
      "cell_type": "code",
      "source": [
        "su.backward()\n"
      ],
      "metadata": {
        "id": "DuRA-9zeb_xe"
      },
      "execution_count": null,
      "outputs": []
    },
    {
      "cell_type": "code",
      "source": [
        "mo.grad"
      ],
      "metadata": {
        "colab": {
          "base_uri": "https://localhost:8080/"
        },
        "id": "BVAGeBvKcJ3T",
        "outputId": "fa0668a9-3d0e-41eb-89d1-1edc533421de"
      },
      "execution_count": null,
      "outputs": [
        {
          "output_type": "execute_result",
          "data": {
            "text/plain": [
              "tensor([[ 16.,  33.,  56.],\n",
              "        [ 85., 120., 161.],\n",
              "        [208., 261., 320.]])"
            ]
          },
          "metadata": {},
          "execution_count": 29
        }
      ]
    },
    {
      "cell_type": "code",
      "source": [
        "torch.cuda.is_available()"
      ],
      "metadata": {
        "colab": {
          "base_uri": "https://localhost:8080/"
        },
        "id": "P3mcJQLNcyPa",
        "outputId": "bd06f824-8b35-4b5d-9c7f-57a385f3927b"
      },
      "execution_count": null,
      "outputs": [
        {
          "output_type": "execute_result",
          "data": {
            "text/plain": [
              "False"
            ]
          },
          "metadata": {},
          "execution_count": 30
        }
      ]
    },
    {
      "cell_type": "code",
      "source": [
        "# Torch.randn() it gives random integers having mean 0 and variance 1\n",
        "x = torch.randn(5000,5000)\n",
        "x"
      ],
      "metadata": {
        "id": "Bn1FKtkjdak7"
      },
      "execution_count": null,
      "outputs": []
    },
    {
      "cell_type": "code",
      "source": [],
      "metadata": {
        "id": "yJuwCBlYMxhM"
      },
      "execution_count": null,
      "outputs": []
    }
  ]
}